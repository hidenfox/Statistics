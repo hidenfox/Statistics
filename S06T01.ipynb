{
 "cells": [
  {
   "cell_type": "markdown",
   "metadata": {},
   "source": [
    "# S06 T01: Tasca dades, probabilitats i estadístiques\n",
    "## Descripció\n",
    "\n",
    "Aprèn a realitzar estadístiques amb Python.\n",
    "## Nivell 1\n",
    "### - Exercici 1\n",
    "\n",
    "Agafa un conjunt de dades de tema esportiu que t'agradi i selecciona un atribut del conjunt de dades. Calcula la moda, la mediana, la desviació estàndard i la mitjana aritmètica. \n"
   ]
  },
  {
   "cell_type": "code",
   "execution_count": 6,
   "metadata": {},
   "outputs": [],
   "source": [
    "import pandas as pd\n",
    "results=pd.read_csv('results.csv')\n",
    "laptimes= pd.read_csv('lapTimes.csv')"
   ]
  },
  {
   "cell_type": "code",
   "execution_count": 43,
   "metadata": {},
   "outputs": [
    {
     "name": "stdout",
     "output_type": "stream",
     "text": [
      "        raceId  driverId  lap  position      time  milliseconds\n",
      "0          841        20    1         1  1:38.109         98109\n",
      "1          841        20    2         1  1:33.006         93006\n",
      "2          841        20    3         1  1:32.713         92713\n",
      "3          841        20    4         1  1:32.803         92803\n",
      "4          841        20    5         1  1:32.342         92342\n",
      "...        ...       ...  ...       ...       ...           ...\n",
      "426628     988       825   50        13  1:43.928        103928\n",
      "426629     988       825   51        13  1:44.138        104138\n",
      "426630     988       825   52        13  1:43.934        103934\n",
      "426631     988       825   53        13  1:44.164        104164\n",
      "426632     988       825   54        13  1:44.285        104285\n",
      "\n",
      "[426633 rows x 6 columns]\n"
     ]
    }
   ],
   "source": [
    "print(laptimes)"
   ]
  },
  {
   "cell_type": "code",
   "execution_count": 41,
   "metadata": {},
   "outputs": [
    {
     "ename": "TypeError",
     "evalue": "GroupBy.mean() got an unexpected keyword argument 'skipna'",
     "output_type": "error",
     "traceback": [
      "\u001b[0;31m---------------------------------------------------------------------------\u001b[0m",
      "\u001b[0;31mTypeError\u001b[0m                                 Traceback (most recent call last)",
      "\u001b[0;32m/tmp/ipykernel_7488/1360558089.py\u001b[0m in \u001b[0;36m<module>\u001b[0;34m\u001b[0m\n\u001b[1;32m      1\u001b[0m \u001b[0;31m#mediana\u001b[0m\u001b[0;34m\u001b[0m\u001b[0;34m\u001b[0m\u001b[0m\n\u001b[0;32m----> 2\u001b[0;31m \u001b[0mlaptimes\u001b[0m\u001b[0;34m.\u001b[0m\u001b[0mgroupby\u001b[0m\u001b[0;34m(\u001b[0m\u001b[0;34m'raceId'\u001b[0m\u001b[0;34m)\u001b[0m\u001b[0;34m.\u001b[0m\u001b[0mmean\u001b[0m\u001b[0;34m(\u001b[0m\u001b[0mskipna\u001b[0m\u001b[0;34m=\u001b[0m\u001b[0;32mTrue\u001b[0m\u001b[0;34m)\u001b[0m\u001b[0;34m\u001b[0m\u001b[0;34m\u001b[0m\u001b[0m\n\u001b[0m",
      "\u001b[0;31mTypeError\u001b[0m: GroupBy.mean() got an unexpected keyword argument 'skipna'"
     ]
    }
   ],
   "source": [
    "#mediana\n",
    "laptimes.groupby('raceId').mean()"
   ]
  },
  {
   "cell_type": "code",
   "execution_count": 11,
   "metadata": {},
   "outputs": [
    {
     "data": {
      "text/html": [
       "<div>\n",
       "<style scoped>\n",
       "    .dataframe tbody tr th:only-of-type {\n",
       "        vertical-align: middle;\n",
       "    }\n",
       "\n",
       "    .dataframe tbody tr th {\n",
       "        vertical-align: top;\n",
       "    }\n",
       "\n",
       "    .dataframe thead th {\n",
       "        text-align: right;\n",
       "    }\n",
       "</style>\n",
       "<table border=\"1\" class=\"dataframe\">\n",
       "  <thead>\n",
       "    <tr style=\"text-align: right;\">\n",
       "      <th></th>\n",
       "      <th>driverId</th>\n",
       "      <th>lap</th>\n",
       "      <th>position</th>\n",
       "      <th>milliseconds</th>\n",
       "    </tr>\n",
       "    <tr>\n",
       "      <th>raceId</th>\n",
       "      <th></th>\n",
       "      <th></th>\n",
       "      <th></th>\n",
       "      <th></th>\n",
       "    </tr>\n",
       "  </thead>\n",
       "  <tbody>\n",
       "    <tr>\n",
       "      <th>1</th>\n",
       "      <td>14.532470</td>\n",
       "      <td>16.598179</td>\n",
       "      <td>5.098904</td>\n",
       "      <td>16128.914510</td>\n",
       "    </tr>\n",
       "    <tr>\n",
       "      <th>2</th>\n",
       "      <td>14.195389</td>\n",
       "      <td>8.895079</td>\n",
       "      <td>5.179453</td>\n",
       "      <td>14390.635956</td>\n",
       "    </tr>\n",
       "    <tr>\n",
       "      <th>3</th>\n",
       "      <td>14.387851</td>\n",
       "      <td>16.042797</td>\n",
       "      <td>5.369922</td>\n",
       "      <td>20246.941050</td>\n",
       "    </tr>\n",
       "    <tr>\n",
       "      <th>4</th>\n",
       "      <td>13.760872</td>\n",
       "      <td>16.295779</td>\n",
       "      <td>5.725491</td>\n",
       "      <td>4945.393108</td>\n",
       "    </tr>\n",
       "    <tr>\n",
       "      <th>5</th>\n",
       "      <td>7.097047</td>\n",
       "      <td>19.148149</td>\n",
       "      <td>4.166474</td>\n",
       "      <td>14542.788934</td>\n",
       "    </tr>\n",
       "    <tr>\n",
       "      <th>...</th>\n",
       "      <td>...</td>\n",
       "      <td>...</td>\n",
       "      <td>...</td>\n",
       "      <td>...</td>\n",
       "    </tr>\n",
       "    <tr>\n",
       "      <th>984</th>\n",
       "      <td>365.895765</td>\n",
       "      <td>15.122751</td>\n",
       "      <td>4.903603</td>\n",
       "      <td>11004.142156</td>\n",
       "    </tr>\n",
       "    <tr>\n",
       "      <th>985</th>\n",
       "      <td>373.239688</td>\n",
       "      <td>16.212265</td>\n",
       "      <td>4.929778</td>\n",
       "      <td>3767.411239</td>\n",
       "    </tr>\n",
       "    <tr>\n",
       "      <th>986</th>\n",
       "      <td>380.655823</td>\n",
       "      <td>20.157889</td>\n",
       "      <td>5.154442</td>\n",
       "      <td>5490.149378</td>\n",
       "    </tr>\n",
       "    <tr>\n",
       "      <th>987</th>\n",
       "      <td>383.979286</td>\n",
       "      <td>20.298524</td>\n",
       "      <td>4.784143</td>\n",
       "      <td>13580.550429</td>\n",
       "    </tr>\n",
       "    <tr>\n",
       "      <th>988</th>\n",
       "      <td>372.409530</td>\n",
       "      <td>15.733507</td>\n",
       "      <td>5.503616</td>\n",
       "      <td>3572.996767</td>\n",
       "    </tr>\n",
       "  </tbody>\n",
       "</table>\n",
       "<p>395 rows × 4 columns</p>\n",
       "</div>"
      ],
      "text/plain": [
       "          driverId        lap  position  milliseconds\n",
       "raceId                                               \n",
       "1        14.532470  16.598179  5.098904  16128.914510\n",
       "2        14.195389   8.895079  5.179453  14390.635956\n",
       "3        14.387851  16.042797  5.369922  20246.941050\n",
       "4        13.760872  16.295779  5.725491   4945.393108\n",
       "5         7.097047  19.148149  4.166474  14542.788934\n",
       "...            ...        ...       ...           ...\n",
       "984     365.895765  15.122751  4.903603  11004.142156\n",
       "985     373.239688  16.212265  4.929778   3767.411239\n",
       "986     380.655823  20.157889  5.154442   5490.149378\n",
       "987     383.979286  20.298524  4.784143  13580.550429\n",
       "988     372.409530  15.733507  5.503616   3572.996767\n",
       "\n",
       "[395 rows x 4 columns]"
      ]
     },
     "execution_count": 11,
     "metadata": {},
     "output_type": "execute_result"
    }
   ],
   "source": [
    "laptimes.groupby('raceId').std()"
   ]
  },
  {
   "cell_type": "code",
   "execution_count": 12,
   "metadata": {},
   "outputs": [
    {
     "data": {
      "text/html": [
       "<div>\n",
       "<style scoped>\n",
       "    .dataframe tbody tr th:only-of-type {\n",
       "        vertical-align: middle;\n",
       "    }\n",
       "\n",
       "    .dataframe tbody tr th {\n",
       "        vertical-align: top;\n",
       "    }\n",
       "\n",
       "    .dataframe thead th {\n",
       "        text-align: right;\n",
       "    }\n",
       "</style>\n",
       "<table border=\"1\" class=\"dataframe\">\n",
       "  <thead>\n",
       "    <tr style=\"text-align: right;\">\n",
       "      <th></th>\n",
       "      <th>driverId</th>\n",
       "      <th>lap</th>\n",
       "      <th>position</th>\n",
       "      <th>milliseconds</th>\n",
       "    </tr>\n",
       "    <tr>\n",
       "      <th>raceId</th>\n",
       "      <th></th>\n",
       "      <th></th>\n",
       "      <th></th>\n",
       "      <th></th>\n",
       "    </tr>\n",
       "  </thead>\n",
       "  <tbody>\n",
       "    <tr>\n",
       "      <th>1</th>\n",
       "      <td>13.0</td>\n",
       "      <td>28.0</td>\n",
       "      <td>9.0</td>\n",
       "      <td>91080.0</td>\n",
       "    </tr>\n",
       "    <tr>\n",
       "      <th>2</th>\n",
       "      <td>12.0</td>\n",
       "      <td>16.0</td>\n",
       "      <td>9.0</td>\n",
       "      <td>100995.0</td>\n",
       "    </tr>\n",
       "    <tr>\n",
       "      <th>3</th>\n",
       "      <td>10.0</td>\n",
       "      <td>27.0</td>\n",
       "      <td>10.0</td>\n",
       "      <td>118722.0</td>\n",
       "    </tr>\n",
       "    <tr>\n",
       "      <th>4</th>\n",
       "      <td>12.0</td>\n",
       "      <td>29.0</td>\n",
       "      <td>10.0</td>\n",
       "      <td>96664.0</td>\n",
       "    </tr>\n",
       "    <tr>\n",
       "      <th>5</th>\n",
       "      <td>10.0</td>\n",
       "      <td>32.0</td>\n",
       "      <td>8.0</td>\n",
       "      <td>84940.0</td>\n",
       "    </tr>\n",
       "    <tr>\n",
       "      <th>...</th>\n",
       "      <td>...</td>\n",
       "      <td>...</td>\n",
       "      <td>...</td>\n",
       "      <td>...</td>\n",
       "    </tr>\n",
       "    <tr>\n",
       "      <th>984</th>\n",
       "      <td>822.0</td>\n",
       "      <td>26.0</td>\n",
       "      <td>9.0</td>\n",
       "      <td>96768.0</td>\n",
       "    </tr>\n",
       "    <tr>\n",
       "      <th>985</th>\n",
       "      <td>825.0</td>\n",
       "      <td>27.0</td>\n",
       "      <td>9.0</td>\n",
       "      <td>101659.0</td>\n",
       "    </tr>\n",
       "    <tr>\n",
       "      <th>986</th>\n",
       "      <td>825.0</td>\n",
       "      <td>33.0</td>\n",
       "      <td>9.0</td>\n",
       "      <td>82062.0</td>\n",
       "    </tr>\n",
       "    <tr>\n",
       "      <th>987</th>\n",
       "      <td>817.0</td>\n",
       "      <td>35.0</td>\n",
       "      <td>9.0</td>\n",
       "      <td>74524.0</td>\n",
       "    </tr>\n",
       "    <tr>\n",
       "      <th>988</th>\n",
       "      <td>825.0</td>\n",
       "      <td>27.0</td>\n",
       "      <td>10.0</td>\n",
       "      <td>104266.0</td>\n",
       "    </tr>\n",
       "  </tbody>\n",
       "</table>\n",
       "<p>395 rows × 4 columns</p>\n",
       "</div>"
      ],
      "text/plain": [
       "        driverId   lap  position  milliseconds\n",
       "raceId                                        \n",
       "1           13.0  28.0       9.0       91080.0\n",
       "2           12.0  16.0       9.0      100995.0\n",
       "3           10.0  27.0      10.0      118722.0\n",
       "4           12.0  29.0      10.0       96664.0\n",
       "5           10.0  32.0       8.0       84940.0\n",
       "...          ...   ...       ...           ...\n",
       "984        822.0  26.0       9.0       96768.0\n",
       "985        825.0  27.0       9.0      101659.0\n",
       "986        825.0  33.0       9.0       82062.0\n",
       "987        817.0  35.0       9.0       74524.0\n",
       "988        825.0  27.0      10.0      104266.0\n",
       "\n",
       "[395 rows x 4 columns]"
      ]
     },
     "execution_count": 12,
     "metadata": {},
     "output_type": "execute_result"
    }
   ],
   "source": [
    "laptimes.groupby('raceId').median()"
   ]
  },
  {
   "cell_type": "code",
   "execution_count": 22,
   "metadata": {},
   "outputs": [
    {
     "data": {
      "text/plain": [
       "0    81571\n",
       "1    83794\n",
       "dtype: int64"
      ]
     },
     "execution_count": 22,
     "metadata": {},
     "output_type": "execute_result"
    }
   ],
   "source": [
    "laptimes.loc[:,\"milliseconds\"].mode()"
   ]
  },
  {
   "cell_type": "markdown",
   "metadata": {},
   "source": [
    "### - Exercici 2\n",
    "Continuant amb les dades de tema esportiu, selecciona dos atributs i calcula'n la seva correlació. \n"
   ]
  },
  {
   "cell_type": "code",
   "execution_count": 34,
   "metadata": {},
   "outputs": [
    {
     "data": {
      "text/plain": [
       "0.032632643255824066"
      ]
     },
     "execution_count": 34,
     "metadata": {},
     "output_type": "execute_result"
    }
   ],
   "source": [
    "laptimes[\"position\"].corr(laptimes[\"milliseconds\"])"
   ]
  },
  {
   "cell_type": "markdown",
   "metadata": {},
   "source": [
    "## Nivell 2\n",
    "\n",
    "### - Exercici 3\n",
    "\n",
    "Continuant amb les dades de tema esportiu, calcula la correlació de tots els atributs entre sí i representa'ls en una matriu amb diferents colors d'intensitat."
   ]
  },
  {
   "cell_type": "code",
   "execution_count": 35,
   "metadata": {},
   "outputs": [
    {
     "data": {
      "text/html": [
       "<style type=\"text/css\">\n",
       "#T_732f1_row0_col0, #T_732f1_row1_col1, #T_732f1_row2_col2, #T_732f1_row3_col3, #T_732f1_row4_col4 {\n",
       "  background-color: #b40426;\n",
       "  color: #f1f1f1;\n",
       "}\n",
       "#T_732f1_row0_col1, #T_732f1_row1_col0 {\n",
       "  background-color: #f4c6af;\n",
       "  color: #000000;\n",
       "}\n",
       "#T_732f1_row0_col2, #T_732f1_row0_col4, #T_732f1_row1_col2 {\n",
       "  background-color: #6180e9;\n",
       "  color: #f1f1f1;\n",
       "}\n",
       "#T_732f1_row0_col3 {\n",
       "  background-color: #7da0f9;\n",
       "  color: #f1f1f1;\n",
       "}\n",
       "#T_732f1_row1_col3 {\n",
       "  background-color: #abc8fd;\n",
       "  color: #000000;\n",
       "}\n",
       "#T_732f1_row1_col4 {\n",
       "  background-color: #5875e1;\n",
       "  color: #f1f1f1;\n",
       "}\n",
       "#T_732f1_row2_col0, #T_732f1_row2_col1, #T_732f1_row2_col3, #T_732f1_row2_col4, #T_732f1_row3_col2 {\n",
       "  background-color: #3b4cc0;\n",
       "  color: #f1f1f1;\n",
       "}\n",
       "#T_732f1_row3_col0, #T_732f1_row3_col4 {\n",
       "  background-color: #5673e0;\n",
       "  color: #f1f1f1;\n",
       "}\n",
       "#T_732f1_row3_col1 {\n",
       "  background-color: #8badfd;\n",
       "  color: #000000;\n",
       "}\n",
       "#T_732f1_row4_col0 {\n",
       "  background-color: #4e68d8;\n",
       "  color: #f1f1f1;\n",
       "}\n",
       "#T_732f1_row4_col1 {\n",
       "  background-color: #465ecf;\n",
       "  color: #f1f1f1;\n",
       "}\n",
       "#T_732f1_row4_col2 {\n",
       "  background-color: #4f69d9;\n",
       "  color: #f1f1f1;\n",
       "}\n",
       "#T_732f1_row4_col3 {\n",
       "  background-color: #6b8df0;\n",
       "  color: #f1f1f1;\n",
       "}\n",
       "</style>\n",
       "<table id=\"T_732f1_\">\n",
       "  <thead>\n",
       "    <tr>\n",
       "      <th class=\"blank level0\" >&nbsp;</th>\n",
       "      <th class=\"col_heading level0 col0\" >raceId</th>\n",
       "      <th class=\"col_heading level0 col1\" >driverId</th>\n",
       "      <th class=\"col_heading level0 col2\" >lap</th>\n",
       "      <th class=\"col_heading level0 col3\" >position</th>\n",
       "      <th class=\"col_heading level0 col4\" >milliseconds</th>\n",
       "    </tr>\n",
       "  </thead>\n",
       "  <tbody>\n",
       "    <tr>\n",
       "      <th id=\"T_732f1_level0_row0\" class=\"row_heading level0 row0\" >raceId</th>\n",
       "      <td id=\"T_732f1_row0_col0\" class=\"data row0 col0\" >1.000000</td>\n",
       "      <td id=\"T_732f1_row0_col1\" class=\"data row0 col1\" >0.618396</td>\n",
       "      <td id=\"T_732f1_row0_col2\" class=\"data row0 col2\" >-0.001506</td>\n",
       "      <td id=\"T_732f1_row0_col3\" class=\"data row0 col3\" >0.090072</td>\n",
       "      <td id=\"T_732f1_row0_col4\" class=\"data row0 col4\" >0.062383</td>\n",
       "    </tr>\n",
       "    <tr>\n",
       "      <th id=\"T_732f1_level0_row1\" class=\"row_heading level0 row1\" >driverId</th>\n",
       "      <td id=\"T_732f1_row1_col0\" class=\"data row1 col0\" >0.618396</td>\n",
       "      <td id=\"T_732f1_row1_col1\" class=\"data row1 col1\" >1.000000</td>\n",
       "      <td id=\"T_732f1_row1_col2\" class=\"data row1 col2\" >-0.005279</td>\n",
       "      <td id=\"T_732f1_row1_col3\" class=\"data row1 col3\" >0.241768</td>\n",
       "      <td id=\"T_732f1_row1_col4\" class=\"data row1 col4\" >0.037023</td>\n",
       "    </tr>\n",
       "    <tr>\n",
       "      <th id=\"T_732f1_level0_row2\" class=\"row_heading level0 row2\" >lap</th>\n",
       "      <td id=\"T_732f1_row2_col0\" class=\"data row2 col0\" >-0.001506</td>\n",
       "      <td id=\"T_732f1_row2_col1\" class=\"data row2 col1\" >-0.005279</td>\n",
       "      <td id=\"T_732f1_row2_col2\" class=\"data row2 col2\" >1.000000</td>\n",
       "      <td id=\"T_732f1_row2_col3\" class=\"data row2 col3\" >-0.144446</td>\n",
       "      <td id=\"T_732f1_row2_col4\" class=\"data row2 col4\" >-0.066895</td>\n",
       "    </tr>\n",
       "    <tr>\n",
       "      <th id=\"T_732f1_level0_row3\" class=\"row_heading level0 row3\" >position</th>\n",
       "      <td id=\"T_732f1_row3_col0\" class=\"data row3 col0\" >0.090072</td>\n",
       "      <td id=\"T_732f1_row3_col1\" class=\"data row3 col1\" >0.241768</td>\n",
       "      <td id=\"T_732f1_row3_col2\" class=\"data row3 col2\" >-0.144446</td>\n",
       "      <td id=\"T_732f1_row3_col3\" class=\"data row3 col3\" >1.000000</td>\n",
       "      <td id=\"T_732f1_row3_col4\" class=\"data row3 col4\" >0.032633</td>\n",
       "    </tr>\n",
       "    <tr>\n",
       "      <th id=\"T_732f1_level0_row4\" class=\"row_heading level0 row4\" >milliseconds</th>\n",
       "      <td id=\"T_732f1_row4_col0\" class=\"data row4 col0\" >0.062383</td>\n",
       "      <td id=\"T_732f1_row4_col1\" class=\"data row4 col1\" >0.037023</td>\n",
       "      <td id=\"T_732f1_row4_col2\" class=\"data row4 col2\" >-0.066895</td>\n",
       "      <td id=\"T_732f1_row4_col3\" class=\"data row4 col3\" >0.032633</td>\n",
       "      <td id=\"T_732f1_row4_col4\" class=\"data row4 col4\" >1.000000</td>\n",
       "    </tr>\n",
       "  </tbody>\n",
       "</table>\n"
      ],
      "text/plain": [
       "<pandas.io.formats.style.Styler at 0x7f20bd7692a0>"
      ]
     },
     "execution_count": 35,
     "metadata": {},
     "output_type": "execute_result"
    }
   ],
   "source": [
    "# generating pairwise correlation\n",
    "corr = laptimes.corr()\n",
    "  \n",
    "# Displaying dataframe as an heatmap \n",
    "# with diverging colourmap as coolwarm\n",
    "corr.style.background_gradient(cmap ='coolwarm')"
   ]
  },
  {
   "cell_type": "code",
   "execution_count": 38,
   "metadata": {},
   "outputs": [
    {
     "data": {
      "text/plain": [
       "<AxesSubplot:>"
      ]
     },
     "execution_count": 38,
     "metadata": {},
     "output_type": "execute_result"
    },
    {
     "data": {
      "image/png": "[encoded data removed]",
      "text/plain": [
       "<Figure size 864x504 with 2 Axes>"
      ]
     },
     "metadata": {
      "needs_background": "light"
     },
     "output_type": "display_data"
    }
   ],
   "source": [
    "import seaborn as sns\n",
    "import matplotlib.pyplot as plt\n",
    "\n",
    "fig, ax = plt.subplots(figsize = (12, 7))\n",
    "sns.heatmap(corr, annot = True)"
   ]
  },
  {
   "cell_type": "markdown",
   "metadata": {},
   "source": [
    "## Nivell 3\n",
    "\n",
    "### - Exercici 4\n",
    "\n",
    "Continuant amb les dades de tema esportiu, selecciona un atribut i calcula la mitjana geomètrica i la mitjana harmònica."
   ]
  },
  {
   "cell_type": "code",
   "execution_count": 40,
   "metadata": {},
   "outputs": [
    {
     "ename": "OverflowError",
     "evalue": "int too large to convert to float",
     "output_type": "error",
     "traceback": [
      "\u001b[0;31m---------------------------------------------------------------------------\u001b[0m",
      "\u001b[0;31mOverflowError\u001b[0m                             Traceback (most recent call last)",
      "\u001b[0;32m/tmp/ipykernel_7488/3402118621.py\u001b[0m in \u001b[0;36m<module>\u001b[0;34m\u001b[0m\n\u001b[1;32m      1\u001b[0m \u001b[0;32mfrom\u001b[0m \u001b[0mfunctools\u001b[0m \u001b[0;32mimport\u001b[0m \u001b[0mreduce\u001b[0m\u001b[0;34m\u001b[0m\u001b[0;34m\u001b[0m\u001b[0m\n\u001b[0;32m----> 2\u001b[0;31m \u001b[0mreduce\u001b[0m\u001b[0;34m(\u001b[0m\u001b[0;32mlambda\u001b[0m \u001b[0mx\u001b[0m\u001b[0;34m,\u001b[0m \u001b[0my\u001b[0m\u001b[0;34m:\u001b[0m \u001b[0mx\u001b[0m\u001b[0;34m*\u001b[0m\u001b[0my\u001b[0m\u001b[0;34m,\u001b[0m \u001b[0mlaptimes\u001b[0m\u001b[0;34m[\u001b[0m\u001b[0;34m'milliseconds'\u001b[0m\u001b[0;34m]\u001b[0m\u001b[0;34m)\u001b[0m\u001b[0;34m**\u001b[0m\u001b[0;34m(\u001b[0m\u001b[0;36m1.0\u001b[0m\u001b[0;34m/\u001b[0m\u001b[0mlen\u001b[0m\u001b[0;34m(\u001b[0m\u001b[0mlaptimes\u001b[0m\u001b[0;34m[\u001b[0m\u001b[0;34m'milliseconds'\u001b[0m\u001b[0;34m]\u001b[0m\u001b[0;34m)\u001b[0m\u001b[0;34m)\u001b[0m\u001b[0;34m\u001b[0m\u001b[0;34m\u001b[0m\u001b[0m\n\u001b[0m",
      "\u001b[0;31mOverflowError\u001b[0m: int too large to convert to float"
     ]
    }
   ],
   "source": [
    "from functools import reduce\n",
    "reduce(lambda x, y: x*y, laptimes['milliseconds'])**(1.0/len(laptimes['milliseconds']))"
   ]
  }
 ],
 "metadata": {
  "interpreter": {
   "hash": "e7370f93d1d0cde622a1f8e1c04877d8463912d04d973331ad4851f04de6915a"
  },
  "kernelspec": {
   "display_name": "Python 3.10.1 64-bit",
   "language": "python",
   "name": "python3"
  },
  "language_info": {
   "name": "python",
   "version": "3.10.1"
  },
  "orig_nbformat": 4
 },
 "nbformat": 4,
 "nbformat_minor": 2
}
